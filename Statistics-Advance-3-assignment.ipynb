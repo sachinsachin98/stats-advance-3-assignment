{
 "cells": [
  {
   "cell_type": "markdown",
   "id": "6b022aa5-e221-4be1-970a-581cb682a0f6",
   "metadata": {},
   "source": [
    "#Q1\n",
    "Estimation in statistics refers to the process of using sample data to make educated guesses or estimates about population parameters, such as the mean, variance, proportion, etc. Estimation allows us to draw conclusions about a population based on the information gathered from a sample. There are two main types of estimation: point estimate and interval estimate.\n",
    "\n",
    "Point Estimate:\n",
    "A point estimate is a single numerical value that is used to estimate a population parameter. It's a best guess based on the available sample data. Point estimates are often calculated using sample statistics that are representative of the population parameter being estimated. For example, the sample mean (xˉ ) is a point estimate for the population mean (μ), and the sample proportion (p) is a point estimate for the population proportion (P).\n",
    "\n",
    "Interval Estimate:\n",
    "An interval estimate, also known as a confidence interval, provides a range of values within which the population parameter is likely to lie. Instead of providing a single point estimate, interval estimates provide a range that is believed to contain the true population parameter with a certain level of confidence. The confidence level indicates the probability that the interval estimate will capture the true parameter value if the estimation process is repeated many times.\n",
    "\n",
    "An interval estimate is usually expressed as:\n",
    "Estimate±Margin of Error\n",
    "\n",
    "Where:\n",
    "\n",
    "Estimate: The point estimate.\n",
    "Margin of Error: A measure of the variability or uncertainty associated with the estimate. It's determined by the sample size and the desired level of confidence.\n",
    "For example, if we're estimating the average weight of a certain animal species, we might calculate a 95% confidence interval of 50 kg to 55 kg. This means we're 95% confident that the true population average weight falls within this interval.\n",
    "\n",
    "Interval estimates provide more information than point estimates alone. They give a sense of the precision and reliability of the estimate by considering the variability of the sample data. The choice of confidence level (e.g., 90%, 95%, 99%) for the interval estimate depends on the desired trade-off between precision and level of confidence. A higher confidence level leads to wider intervals, while a lower confidence level results in narrower intervals."
   ]
  },
  {
   "cell_type": "code",
   "execution_count": 1,
   "id": "323ee36c-8841-4d0c-9612-1001e810d15d",
   "metadata": {},
   "outputs": [],
   "source": [
    "#Q2\n",
    "import math\n",
    "import scipy.stats as stats\n",
    "\n",
    "def population_mean(sample, confidence_level = 0.95):\n",
    "    sample_mean = sum(sample) / len(sample)\n",
    "    sample_var = sum([(x - sample_mean)**2 for x in sample]) / (len(sample) - 1)\n",
    "    sample_std_dev = math.sqrt(sample_var)\n",
    "    alpha = 1 - confidence_level\n",
    "    dof = len(sample) - 1\n",
    "    t_value = stats.t.ppf(1 - alpha/2, dof)\n",
    "    std_error = sample_std_dev / math.sqrt(len(sample))\n",
    "    margin_of_error = t_value * std_error\n",
    "    lower_bound = sample_mean - margin_of_error\n",
    "    upper_bound = sample_mean + margin_of_error\n",
    "    return(lower_bound, upper_bound)"
   ]
  },
  {
   "cell_type": "code",
   "execution_count": 3,
   "id": "605f8865-f238-4bc4-b0e1-173c5cff6d9b",
   "metadata": {},
   "outputs": [
    {
     "name": "stdout",
     "output_type": "stream",
     "text": [
      "ESTIMATED population mean  : 49.424306508287124\n",
      "ESTIMATED population mean with 95% confidence interval : (43.61198350415791,55.23662951241631)\n",
      "ACTUAL Population mean : 49.592153437178276\n"
     ]
    }
   ],
   "source": [
    "import numpy as np\n",
    "import random\n",
    "\n",
    "np.random.seed(0)\n",
    "\n",
    "population_size = 1000\n",
    "population = np.random.uniform(low=0, high=100, size=population_size)\n",
    "sample_size = 100\n",
    "sample = random.sample(list(population), sample_size)\n",
    "lower_bound, upper_bound = population_mean(sample)\n",
    "\n",
    "print(f\"ESTIMATED population mean  : {np.mean(sample)}\")\n",
    "print(f\"ESTIMATED population mean with 95% confidence interval : ({lower_bound},{upper_bound})\")\n",
    "print(f\"ACTUAL Population mean : {np.mean(population)}\")"
   ]
  },
  {
   "cell_type": "markdown",
   "id": "d783c381-29d4-4491-be49-b47dbde9bdde",
   "metadata": {},
   "source": [
    "#Q3\n",
    "Hypothesis testing is a fundamental statistical method used to make decisions about population parameters based on sample data. It involves formulating a hypothesis (a claim or statement about a population parameter) and then using sample evidence to assess whether the data provides enough evidence to support or reject that hypothesis. Hypothesis testing is used to draw conclusions and make informed decisions in various fields, from scientific research to business analysis.\n",
    "\n",
    "Process of Hypothesis Testing:\n",
    "\n",
    "Formulate Hypotheses: There are two main hypotheses: the null hypothesis (H0) and the alternative hypothesis (Ha or H1). The null hypothesis typically states that there is no effect, no difference, or no relationship, while the alternative hypothesis asserts the opposite.\n",
    "\n",
    "Collect and Analyze Data: Collect a sample from the population and analyze the sample data using appropriate statistical methods.\n",
    "\n",
    "Calculate Test Statistic: Calculate a test statistic that quantifies the difference between the sample data and what is expected under the null hypothesis.\n",
    "\n",
    "Determine P-Value: The p-value is the probability of observing a test statistic as extreme as or more extreme than the one calculated, assuming that the null hypothesis is true. It measures the strength of the evidence against the null hypothesis.\n",
    "\n",
    "Make a Decision: Compare the p-value to a pre-defined significance level (alpha, often denoted as α). If the p-value is less than or equal to α, you reject the null hypothesis. Otherwise, you fail to reject the null hypothesis.\n",
    "\n",
    "Draw Conclusions: Based on the decision, draw conclusions about the population parameter and the relationship between the variables.\n",
    "\n",
    "Importance of Hypothesis Testing:\n",
    "\n",
    "Scientific Research: Hypothesis testing is essential in scientific research to validate or disprove theories, hypotheses, and claims. It allows researchers to make evidence-based conclusions about the relationships between variables.\n",
    "\n",
    "Data-Driven Decision Making: In business and industry, hypothesis testing helps in making informed decisions about marketing strategies, product development, process improvements, and more.\n",
    "\n",
    "Quality Control: In manufacturing and production, hypothesis testing is used to ensure the quality and consistency of products and processes.\n",
    "\n",
    "Medical and Health Sciences: Hypothesis testing is used to determine the effectiveness of treatments, medications, and medical interventions.\n",
    "\n",
    "Legal and Policy Decisions: In legal cases, hypothesis testing can provide evidence to support claims or accusations. In policy-making, it helps evaluate the impact of policies and interventions.\n",
    "\n",
    "Education and Social Sciences: Hypothesis testing is used in educational research to assess teaching methods and learning outcomes. In social sciences, it helps analyze societal trends and behavior.\n",
    "\n",
    "Statistical Inference: Hypothesis testing is a core component of statistical inference, allowing us to generalize findings from a sample to a larger population.\n",
    "\n",
    "Scientific Method: Hypothesis testing is an integral part of the scientific method, providing a structured framework for testing and refining hypotheses."
   ]
  },
  {
   "cell_type": "markdown",
   "id": "de82b5f1-b9c8-4ebf-9fa9-018f523a62db",
   "metadata": {},
   "source": [
    "#Q4\n",
    "Null hypothesis: The average weight of male college students is equal to or less than the average weight of female college students.\n",
    "\n",
    "Alternative hypothesis: The average weight of male college students is greater than the average weight of female college students.\n",
    "\n",
    "In statistical notation, this can be represented as:\n",
    "\n",
    "H0: μm ≤ μf\n",
    "\n",
    "Ha: μm > μf\n",
    "\n",
    "where:\n",
    "\n",
    "  1. H0 = null hypothesis\n",
    "  2. Ha = alternative hypothesis\n",
    "  3. μm = population mean weight of male college students\n",
    "  4. μf = population mean weight of female college students"
   ]
  },
  {
   "cell_type": "code",
   "execution_count": 4,
   "id": "9b2623c2-38b2-467e-bb14-09aabff77463",
   "metadata": {},
   "outputs": [
    {
     "name": "stdout",
     "output_type": "stream",
     "text": [
      "p-value : 0.22461584380277022\n",
      "t-statistic : 0.7955870797707367\n",
      "t-crit : 2.3060041350333704\n",
      "Fail to reject the null hypothesis: The population means of the two samples are EQUAL\n",
      "Fail to reject the null hypothesis: The population means of the two samples are EQUAL\n"
     ]
    }
   ],
   "source": [
    "#Q5\n",
    "import numpy as np\n",
    "from scipy.stats import t\n",
    "sample1 = np.array([2.5, 3.2, 2.9, 3.8, 3.5])\n",
    "sample2 = np.array([2.1, 3.0, 3.5, 2.8, 3.2])\n",
    "n1 = len(sample1)\n",
    "n2 = len(sample2)\n",
    "mean1 = np.mean(sample1)\n",
    "mean2 = np.mean(sample2)\n",
    "std1 = np.std(sample1, ddof=1)\n",
    "std2 = np.std(sample2, ddof=1)\n",
    "null_hypothesis = \"The population means of the two samples are EQUAL\"\n",
    "alt_hypothesis = \"The population mean of sample 1 and sample 2 are NOT Equal\"\n",
    "sp = np.sqrt(((n1-1)*(std1**2) + (n2-1)*(std2**2)) / (n1+n2-2))\n",
    "t_stat = (mean1 - mean2) / (sp * np.sqrt(1/n1 + 1/n2))\n",
    "df = n1 + n2 - 2\n",
    "p_value = 1 - t.cdf(t_stat, df=df)\n",
    "alpha = 0.05\n",
    "t_crit = t.ppf(1-alpha/2, df=df)\n",
    "print(f'p-value : {p_value}')\n",
    "print(f't-statistic : {t_stat}')\n",
    "print(f't-crit : {t_crit}')\n",
    "\n",
    "\n",
    "if p_value < alpha:\n",
    "    print(\"Reject the null hypothesis: \" + null_hypothesis)\n",
    "    print(\"Accept the alternative hypothesis: \" + alt_hypothesis)\n",
    "else:\n",
    "    print(\"Fail to reject the null hypothesis: \" + null_hypothesis)\n",
    "    \n",
    "if abs(t_stat) > t_crit:\n",
    "    print(\"Reject the null hypothesis: \" + null_hypothesis)\n",
    "    print(\"Accept the alternative hypothesis: \" + alt_hypothesis)\n",
    "else:\n",
    "    print(\"Fail to reject the null hypothesis: \" + null_hypothesis)"
   ]
  },
  {
   "cell_type": "markdown",
   "id": "9d133ad3-d83f-4115-94bd-0c42b5433eaf",
   "metadata": {},
   "source": [
    "#Q6\n",
    "In statistical hypothesis testing, the null hypothesis (denoted as H0) is a statement that assumes there is no significant difference between two or more variables, or that a proposed relationship does not exist between variables.\n",
    "\n",
    "The alternative hypothesis (denoted as Ha or H1) is a statement that contradicts the null hypothesis and claims that there is a significant difference between variables or a proposed relationship does exist.\n",
    "\n",
    "Examples of null and alternative hypotheses are:\n",
    "\n",
    "Null Hypothesis: The average age of customers who buy product A and product B is the same. Alternative Hypothesis: The average age of customers who buy product A is different from the average age of customers who buy product B.\n",
    "\n",
    "Null Hypothesis: The new drug has no effect on blood pressure. Alternative Hypothesis: The new drug reduces blood pressure.\n",
    "\n",
    "Null Hypothesis: There is no relationship between education level and job satisfaction. Alternative Hypothesis: Higher education levels are associated with higher job satisfaction.\n",
    "\n",
    "Null Hypothesis: The mean weight of male and female students is the same. Alternative Hypothesis: The mean weight of male students is greater than the mean weight of female students.\n",
    "\n",
    "Null Hypothesis: The proportion of voters who support Candidate A is the same as the proportion who support Candidate B. Alternative Hypothesis: The proportion of voters who support Candidate A is different from the proportion who support Candidate B."
   ]
  },
  {
   "cell_type": "markdown",
   "id": "7a51b243-6639-4f61-b34d-72b38b806a78",
   "metadata": {},
   "source": [
    "#Q7\n",
    "Hypothesis testing involves a structured process to assess whether there is enough evidence in sample data to make a conclusion about a population parameter. The following are the general steps involved in hypothesis testing:\n",
    "\n",
    "Formulate Hypotheses:\n",
    "\n",
    "Null Hypothesis (H0): Formulate the null hypothesis that represents the default assumption or claim about the population parameter. It typically asserts no effect, no difference, or no relationship.\n",
    "Alternative Hypothesis (Ha or H1): Formulate the alternative hypothesis that contradicts the null hypothesis. It asserts a specific effect, difference, or relationship that you are interested in demonstrating.\n",
    "Select Significance Level (α):\n",
    "\n",
    "Choose a significance level (α) that represents the maximum allowable probability of making a Type I error (rejecting the null hypothesis when it's actually true). Common choices are 0.05 or 0.01.\n",
    "Collect and Analyze Data:\n",
    "\n",
    "Collect a representative sample from the population of interest.\n",
    "Analyze the sample data using appropriate statistical methods, calculating relevant summary statistics (e.g., sample mean, sample proportion).\n",
    "Calculate Test Statistic:\n",
    "\n",
    "Depending on the test being conducted (z-test, t-test, chi-square test, etc.), calculate a test statistic that measures the difference between the sample data and the expected value under the null hypothesis.\n",
    "Determine Critical Region and Rejection Region:\n",
    "\n",
    "Based on the significance level (α) chosen, determine the critical value(s) or the rejection region in the distribution of the test statistic. This region corresponds to extreme values of the test statistic that would lead to the rejection of the null hypothesis.\n",
    "Calculate P-Value:\n",
    "\n",
    "Calculate the p-value, which is the probability of observing a test statistic as extreme as or more extreme than the one calculated, assuming the null hypothesis is true. It measures the strength of evidence against the null hypothesis.\n",
    "Compare P-Value and Significance Level:\n",
    "\n",
    "Compare the p-value to the significance level (α):\n",
    "If p-value ≤ α, reject the null hypothesis.\n",
    "If p-value > α, fail to reject the null hypothesis.\n",
    "Make a Decision:\n",
    "\n",
    "Based on the comparison in step 7, make a decision about whether to reject the null hypothesis in favor of the alternative hypothesis or fail to reject the null hypothesis.\n",
    "Draw Conclusions:\n",
    "\n",
    "If the null hypothesis is rejected, draw conclusions that support the alternative hypothesis. If the null hypothesis is not rejected, conclude that there is insufficient evidence to support the alternative hypothesis.\n",
    "Interpret Results:\n",
    "\n",
    "Interpret the conclusions in the context of the problem or research question. Discuss the implications and practical significance of the findings.\n",
    "Report Findings:\n",
    "\n",
    "Clearly communicate the results, including the conclusions, significance level, p-value, and any relevant statistical information."
   ]
  },
  {
   "cell_type": "markdown",
   "id": "8db19119-f252-4de4-9702-1257d94c8ad6",
   "metadata": {},
   "source": [
    "#Q8\n",
    "The p-value, short for \"probability value,\" is a fundamental concept in hypothesis testing. It quantifies the strength of evidence against the null hypothesis by providing the probability of observing a test statistic as extreme as or more extreme than the one calculated from the sample data, assuming that the null hypothesis is true. In other words, the p-value tells you how likely it is to obtain the observed data or more extreme data under the assumption that the null hypothesis is correct.\n",
    "\n",
    "Significance of the p-value in Hypothesis Testing:\n",
    "\n",
    "Decision Rule: The p-value serves as the basis for making decisions in hypothesis testing. It helps you decide whether to reject the null hypothesis or fail to reject it based on a pre-defined significance level (α).\n",
    "\n",
    "Comparing with Significance Level (α): The p-value is compared to the significance level (α) that you set before conducting the test. If the p-value is less than or equal to α, you have evidence to reject the null hypothesis. If the p-value is greater than α, you do not have sufficient evidence to reject the null hypothesis.\n",
    "\n",
    "Interpretation: A small p-value (p≤α) suggests that the observed data is unlikely to have occurred under the null hypothesis alone. This provides evidence against the null hypothesis and supports the alternative hypothesis. A larger p-value (p>α) indicates that the observed data is reasonably consistent with the null hypothesis.\n",
    "\n",
    "Continuous Measure of Evidence: The p-value provides a continuous measure of evidence against the null hypothesis. Smaller p-values indicate stronger evidence against the null hypothesis.\n",
    "\n",
    "Threshold for Decision Making: The significance level (α) sets the threshold for making decisions. It represents the probability of making a Type I error (rejecting the null hypothesis when it's true). By comparing the p-value to α, you control the risk of making such an error.\n",
    "\n",
    "Strength of Conclusion: A very small p-value suggests that the observed data is highly unlikely under the null hypothesis and provides strong evidence to support the alternative hypothesis. On the other hand, a larger p-value suggests weaker evidence against the null hypothesis.\n",
    "\n",
    "Consistency and Replicability: The p-value allows others to replicate your analysis and draw similar conclusions if they have access to the same data and perform the same test."
   ]
  },
  {
   "cell_type": "code",
   "execution_count": 5,
   "id": "001c3a75-606d-4708-92cd-431c9ea1b039",
   "metadata": {},
   "outputs": [
    {
     "data": {
      "image/png": "[encoded data removed]",
      "text/plain": [
       "<Figure size 640x480 with 1 Axes>"
      ]
     },
     "metadata": {},
     "output_type": "display_data"
    }
   ],
   "source": [
    "#Q9\n",
    "import matplotlib.pyplot as plt\n",
    "import numpy as np\n",
    "from scipy.stats import t\n",
    "\n",
    "df = 10\n",
    "data = t.rvs(df, size=1000)\n",
    "\n",
    "fig, ax = plt.subplots()\n",
    "ax.hist(data, bins='fd', density=True, alpha=0.5,edgecolor='black',label='histogram')\n",
    "\n",
    "kde_xs = np.linspace(data.min(), data.max(), 1000)\n",
    "kde = t.pdf(kde_xs, df)\n",
    "ax.plot(kde_xs, kde, label='KDE', linewidth=2)\n",
    "\n",
    "ax.set_xlabel('x')\n",
    "ax.set_ylabel('Probability density')\n",
    "ax.set_title('Student\\'s t-distribution with 10 degrees of freedom')\n",
    "ax.legend(loc='best')\n",
    "plt.show()"
   ]
  },
  {
   "cell_type": "code",
   "execution_count": 6,
   "id": "e09bbe69-8d4e-4244-b5c8-d24b9ef61d4d",
   "metadata": {},
   "outputs": [
    {
     "name": "stdout",
     "output_type": "stream",
     "text": [
      "t-statistic =  -4.8972467125300785\n",
      "p-value =  3.833334710586062e-06\n",
      "Confidence Interval = 0.99\n",
      "\n",
      "\n",
      "REJECT the null hypothesis that the population means are equal.\n",
      "Conclusion : Population means for both samples are DIFFERENT\n"
     ]
    }
   ],
   "source": [
    "#Q10\n",
    "import numpy as np\n",
    "from scipy.stats import ttest_ind\n",
    "\n",
    "sample1 = np.random.normal(loc=10, scale=2, size=50)\n",
    "sample2 = np.random.normal(loc=12, scale=2, size=50)\n",
    "\n",
    "t_stat, p_val = ttest_ind(sample1, sample2)\n",
    "\n",
    "print(\"t-statistic = \", t_stat)\n",
    "print(\"p-value = \", p_val)\n",
    "\n",
    "alpha = 0.01\n",
    "print(\"Confidence Interval =\",1-alpha)\n",
    "print('\\n')\n",
    "\n",
    "if p_val < alpha:\n",
    "    print(\"REJECT the null hypothesis that the population means are equal.\")\n",
    "    print(\"Conclusion : Population means for both samples are DIFFERENT\")\n",
    "else:\n",
    "    print(\"FAIL to reject the null hypothesis that the population means are equal.\")\n",
    "    print(\"Conclusion : Population means for both samples are EQUAL\")"
   ]
  },
  {
   "cell_type": "markdown",
   "id": "0eb1dd6c-c225-4ac4-8a25-613487693e36",
   "metadata": {},
   "source": [
    "#Q11\n",
    "Student's t-distribution, also known as the t-distribution, is a probability distribution that is used to estimate the mean of a normally distributed population when the sample size is small and/or the population standard deviation is unknown. It was first introduced by William Sealy Gosset in 1908, who published under the pseudonym \"Student\".\n",
    "\n",
    "The t-distribution looks similar to a normal distribution, but it has heavier tails and is more spread out. The shape of the t-distribution depends on a parameter known as degrees of freedom (df), which is related to the sample size.\n",
    "\n",
    "In general, the t-distribution is used in hypothesis testing and confidence interval estimation when the sample size is small (less than 30) or the population standard deviation is unknown. It allows us to make inferences about the population mean based on a small sample of data. The t-distribution is commonly used in a variety of fields, including statistics, engineering, and social sciences.\n",
    "\n",
    "Specifically, we use the t-distribution when:\n",
    "\n",
    "The sample size is small (less than 30).\n",
    "\n",
    "The population standard deviation is unknown.\n",
    "\n",
    "The population is normally distributed or approximately normally distributed (the central limit theorem applies).\n",
    "\n",
    "We want to make inferences about the population mean, such as testing whether a sample mean is significantly different from a hypothesized\n",
    "\n",
    "population mean or constructing a confidence interval for the population mean.\n",
    "\n",
    "Overall, the t-distribution is a useful tool for statistical analysis when working with small sample sizes or when the population standard deviation is unknown."
   ]
  },
  {
   "cell_type": "markdown",
   "id": "77d20a9a-f94f-4084-817d-99ab45202234",
   "metadata": {},
   "source": [
    "#Q12\n",
    "The t-statistic is a test statistic that is used in hypothesis testing and confidence interval estimation when the population standard deviation is unknown and the sample size is small. It is a standardized measure of the difference between the sample mean and the hypothesized population mean, in units of the sample standard deviation.\n",
    "The formula for the t-statistic is:\n",
    "\n",
    "t=xˉ1−xˉ2/underroot([s1^2/n1]+[s2^2/n2])\n",
    "where:\n",
    "Where:\n",
    "\n",
    "xˉ1 is the mean of the first group.\n",
    "xˉ2 is the mean of the second group.\n",
    "s1 is the standard deviation of the first group.\n",
    "s2 is the standard deviation of the second group.\n",
    "n1 is the sample size of the first group.\n",
    "n2 is the sample size of the second group.\n",
    "\n",
    "The formula shows that the t-statistic is the difference between the sample mean and hypothesized population mean, standardized by the standard error of the mean, which is the sample standard deviation divided by the square root of the sample size."
   ]
  },
  {
   "cell_type": "code",
   "execution_count": 7,
   "id": "3396960d-97a7-4255-a889-1335d05f657c",
   "metadata": {},
   "outputs": [
    {
     "name": "stdout",
     "output_type": "stream",
     "text": [
      "The 95% confidence interval for the population mean revenue is: ($485.79, $514.21)\n"
     ]
    }
   ],
   "source": [
    "#Q13\n",
    "import math\n",
    "import scipy.stats as stats\n",
    "\n",
    "sample_mean = 500\n",
    "sample_std = 50\n",
    "sample_size = 50\n",
    "\n",
    "alpha = 0.05\n",
    "dof = sample_size - 1 \n",
    "t_value = stats.t.ppf(1 - alpha/2, dof)\n",
    "\n",
    "std_error = sample_std / math.sqrt(sample_size)\n",
    "margin_of_error = t_value * std_error\n",
    "\n",
    "lower_bound = sample_mean - margin_of_error\n",
    "upper_bound = sample_mean + margin_of_error\n",
    "\n",
    "print(f\"The 95% confidence interval for the population mean revenue is: (${lower_bound:.2f}, ${upper_bound:.2f})\")"
   ]
  },
  {
   "cell_type": "code",
   "execution_count": 8,
   "id": "ca2982f3-3621-4001-a7fb-b6548dab0059",
   "metadata": {},
   "outputs": [
    {
     "name": "stdout",
     "output_type": "stream",
     "text": [
      "The p-value is 7.506144504985108e-10, which is less than the significance level of 0.05.\n",
      "Reject the null hypothesis: The true mean decrease in blood pressure is equal to 10 mmHg.\n",
      "Conclusion: The true mean decrease in blood pressure is less than 10 mmHg.\n"
     ]
    }
   ],
   "source": [
    "#Q14\n",
    "import math\n",
    "import scipy.stats as stats\n",
    "n = 100\n",
    "\n",
    "sample_mean = 8\n",
    "sample_std = 3\n",
    "\n",
    "population_mean = 10\n",
    "\n",
    "null_hypothesis = \"The true mean decrease in blood pressure is equal to 10 mmHg\"\n",
    "alternative_hypothesis = \"The true mean decrease in blood pressure is less than 10 mmHg\"\n",
    "\n",
    "t_value = (sample_mean - population_mean) / (sample_std / math.sqrt(n))\n",
    "p_value = stats.t.cdf(t_value, df=n-1)\n",
    "\n",
    "significance_level = 0.05\n",
    "\n",
    "if p_value < significance_level:\n",
    "    print(f\"The p-value is {p_value}, which is less than the significance level of {significance_level}.\")\n",
    "    print(f\"Reject the null hypothesis: {null_hypothesis}.\")\n",
    "    print(f\"Conclusion: {alternative_hypothesis}.\")\n",
    "else:\n",
    "    print(f\"The p-value is {p_value}, which is greater than the significance level of {significance_level}.\")\n",
    "    print(f\"Fail to reject the null hypothesis: {null_hypothesis}.\")\n",
    "    print(\"Conclusion: There is not enough evidence to conclude that the new drug decreases blood pressure by a statistically significant amount.\")\n"
   ]
  },
  {
   "cell_type": "code",
   "execution_count": 9,
   "id": "fc825934-eace-4277-9051-aaef965e0ecf",
   "metadata": {},
   "outputs": [
    {
     "name": "stdout",
     "output_type": "stream",
     "text": [
      "The p-value is 0.0285, which is greater than the significance level of 0.01.\n",
      "Fail to reject the null hypothesis: The true mean weight of the products is equal to 5 pounds.\n",
      "Conclusion: There is not enough evidence to conclude that the true mean weight of the products is less than 5 pounds.\n"
     ]
    }
   ],
   "source": [
    "#Q15\n",
    "import math\n",
    "import scipy.stats as stats\n",
    "\n",
    "pop_mean = 5\n",
    "pop_std = 0.5\n",
    "\n",
    "n = 25\n",
    "sample_mean = 4.8\n",
    "\n",
    "\n",
    "null_hypothesis = \"The true mean weight of the products is equal to 5 pounds\"\n",
    "alternative_hypothesis = \"The true mean weight of the products is less than 5 pounds\"\n",
    "\n",
    "t_value = (sample_mean - pop_mean) / (pop_std / math.sqrt(n))\n",
    "p_value = stats.t.cdf(t_value, df=n-1)\n",
    "\n",
    "significance_level = 0.01\n",
    "\n",
    "if p_value < significance_level:\n",
    "    print(f\"The p-value is {p_value:.4f}, which is less than the significance level of {significance_level}.\")\n",
    "    print(f\"Reject the null hypothesis: {null_hypothesis}.\")\n",
    "    print(f\"Conclusion: {alternative_hypothesis}.\")\n",
    "else:\n",
    "    print(f\"The p-value is {p_value:.4f}, which is greater than the significance level of {significance_level}.\")\n",
    "    print(f\"Fail to reject the null hypothesis: {null_hypothesis}.\")\n",
    "    print(\"Conclusion: There is not enough evidence to conclude that the true mean weight of the products is less than 5 pounds.\")"
   ]
  },
  {
   "cell_type": "code",
   "execution_count": 10,
   "id": "2217bb5f-6cc6-4ad8-a461-12e11191f251",
   "metadata": {},
   "outputs": [
    {
     "name": "stdout",
     "output_type": "stream",
     "text": [
      "Fail to reject the null hypothesis.\n",
      "Conclusion : The population means for the two groups are EQUAL\n",
      "p-value:  0.02761348036769749\n"
     ]
    }
   ],
   "source": [
    "#Q16\n",
    "import scipy.stats as stats\n",
    "\n",
    "n1 = 30\n",
    "x1 = 80\n",
    "s1 = 10\n",
    "\n",
    "n2 = 40\n",
    "x2 = 75\n",
    "s2 = 8\n",
    "\n",
    "null_hypothesis = \"The population means for the two groups are EQUAL\"\n",
    "alternative_hypothesis = \"The population means for the two groups are not equal.\"\n",
    "t = (x1 - x2) / ((s1**2 / n1) + (s2**2 / n2))**0.5\n",
    "df = n1 + n2 - 2\n",
    "p_value = stats.t.sf(abs(t), df) * 2\n",
    "\n",
    "alpha = 0.01\n",
    "if p_value < alpha:\n",
    "    print(f\"Reject the null hypothesis : {null_hypothesis}\")\n",
    "    print(f\"Conclusion : {alternative_hypothesis}\")\n",
    "else:\n",
    "    print(\"Fail to reject the null hypothesis.\")\n",
    "    print(f\"Conclusion : {null_hypothesis}\")\n",
    "\n",
    "print(\"p-value: \", p_value)"
   ]
  },
  {
   "cell_type": "code",
   "execution_count": 11,
   "id": "b1fcfbb6-936f-4885-bc4c-419f33ee86a7",
   "metadata": {},
   "outputs": [
    {
     "name": "stdout",
     "output_type": "stream",
     "text": [
      "The population mean is between 3.43 and 4.57 with 99.0 % confidence.\n"
     ]
    }
   ],
   "source": [
    "#Q17\n",
    "import scipy.stats as stats\n",
    "import math\n",
    "\n",
    "sample_mean = 4\n",
    "sample_size = 50\n",
    "sample_std_dev = 1.5\n",
    "conf_level = 0.99\n",
    "\n",
    "alpha = 1 - conf_level\n",
    "dof = sample_size - 1\n",
    "\n",
    "t_value = stats.t.ppf(1 - alpha/2, dof)\n",
    "\n",
    "std_error = sample_std_dev / math.sqrt(sample_size)\n",
    "margin_of_error = t_value * std_error\n",
    "\n",
    "lower_interval = sample_mean - margin_of_error\n",
    "upper_interval = sample_mean + margin_of_error\n",
    "\n",
    "print(\"The population mean is between\", round(lower_interval, 2), \"and\", round(upper_interval, 2), \"with\", conf_level * 100, \"% confidence.\")"
   ]
  },
  {
   "cell_type": "code",
   "execution_count": null,
   "id": "36c259d6-e74f-4659-9129-44e1ade50cce",
   "metadata": {},
   "outputs": [],
   "source": []
  }
 ],
 "metadata": {
  "kernelspec": {
   "display_name": "Python 3 (ipykernel)",
   "language": "python",
   "name": "python3"
  },
  "language_info": {
   "codemirror_mode": {
    "name": "ipython",
    "version": 3
   },
   "file_extension": ".py",
   "mimetype": "text/x-python",
   "name": "python",
   "nbconvert_exporter": "python",
   "pygments_lexer": "ipython3",
   "version": "3.10.8"
  }
 },
 "nbformat": 4,
 "nbformat_minor": 5
}
